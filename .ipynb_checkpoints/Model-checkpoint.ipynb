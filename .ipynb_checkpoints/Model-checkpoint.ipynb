{
 "cells": [
  {
   "cell_type": "code",
   "execution_count": 1,
   "id": "9273dad9",
   "metadata": {},
   "outputs": [],
   "source": [
    "import pandas as pd\n",
    "import numpy as np\n",
    "import matplotlib.pyplot as plt\n",
    "import seaborn as sns\n",
    "import warnings\n",
    "warnings.filterwarnings('ignore')\n",
    "pd.pandas.set_option('display.max_columns',0)"
   ]
  },
  {
   "cell_type": "code",
   "execution_count": 2,
   "id": "8acbdb05",
   "metadata": {},
   "outputs": [
    {
     "data": {
      "text/html": [
       "<div>\n",
       "<style scoped>\n",
       "    .dataframe tbody tr th:only-of-type {\n",
       "        vertical-align: middle;\n",
       "    }\n",
       "\n",
       "    .dataframe tbody tr th {\n",
       "        vertical-align: top;\n",
       "    }\n",
       "\n",
       "    .dataframe thead th {\n",
       "        text-align: right;\n",
       "    }\n",
       "</style>\n",
       "<table border=\"1\" class=\"dataframe\">\n",
       "  <thead>\n",
       "    <tr style=\"text-align: right;\">\n",
       "      <th></th>\n",
       "      <th>Pregnancies</th>\n",
       "      <th>Glucose</th>\n",
       "      <th>BloodPressure</th>\n",
       "      <th>SkinThickness</th>\n",
       "      <th>Insulin</th>\n",
       "      <th>BMI</th>\n",
       "      <th>DiabetesPedigreeFunction</th>\n",
       "      <th>Age</th>\n",
       "      <th>Outcome</th>\n",
       "    </tr>\n",
       "  </thead>\n",
       "  <tbody>\n",
       "    <tr>\n",
       "      <th>554</th>\n",
       "      <td>0.058824</td>\n",
       "      <td>0.258065</td>\n",
       "      <td>0.408163</td>\n",
       "      <td>0.173913</td>\n",
       "      <td>0.120337</td>\n",
       "      <td>0.588050</td>\n",
       "      <td>0.174589</td>\n",
       "      <td>0.116667</td>\n",
       "      <td>0</td>\n",
       "    </tr>\n",
       "    <tr>\n",
       "      <th>732</th>\n",
       "      <td>0.117647</td>\n",
       "      <td>0.838710</td>\n",
       "      <td>0.653061</td>\n",
       "      <td>0.326087</td>\n",
       "      <td>0.126354</td>\n",
       "      <td>0.827044</td>\n",
       "      <td>0.252332</td>\n",
       "      <td>0.050000</td>\n",
       "      <td>1</td>\n",
       "    </tr>\n",
       "    <tr>\n",
       "      <th>321</th>\n",
       "      <td>0.176471</td>\n",
       "      <td>0.438710</td>\n",
       "      <td>0.510204</td>\n",
       "      <td>0.250000</td>\n",
       "      <td>0.132371</td>\n",
       "      <td>0.421384</td>\n",
       "      <td>0.052865</td>\n",
       "      <td>0.066667</td>\n",
       "      <td>1</td>\n",
       "    </tr>\n",
       "    <tr>\n",
       "      <th>444</th>\n",
       "      <td>0.235294</td>\n",
       "      <td>0.470968</td>\n",
       "      <td>0.387755</td>\n",
       "      <td>0.054348</td>\n",
       "      <td>0.132371</td>\n",
       "      <td>0.361635</td>\n",
       "      <td>0.134163</td>\n",
       "      <td>0.150000</td>\n",
       "      <td>1</td>\n",
       "    </tr>\n",
       "    <tr>\n",
       "      <th>392</th>\n",
       "      <td>0.058824</td>\n",
       "      <td>0.561290</td>\n",
       "      <td>0.408163</td>\n",
       "      <td>0.076087</td>\n",
       "      <td>0.481348</td>\n",
       "      <td>0.172956</td>\n",
       "      <td>0.138161</td>\n",
       "      <td>0.000000</td>\n",
       "      <td>0</td>\n",
       "    </tr>\n",
       "  </tbody>\n",
       "</table>\n",
       "</div>"
      ],
      "text/plain": [
       "     Pregnancies   Glucose  ...       Age  Outcome\n",
       "554     0.058824  0.258065  ...  0.116667        0\n",
       "732     0.117647  0.838710  ...  0.050000        1\n",
       "321     0.176471  0.438710  ...  0.066667        1\n",
       "444     0.235294  0.470968  ...  0.150000        1\n",
       "392     0.058824  0.561290  ...  0.000000        0\n",
       "\n",
       "[5 rows x 9 columns]"
      ]
     },
     "execution_count": 2,
     "metadata": {},
     "output_type": "execute_result"
    }
   ],
   "source": [
    "data=pd.read_csv(\"Data_For_Final_Model.csv\",index_col=0)\n",
    "data.sample(5,random_state=1)"
   ]
  },
  {
   "cell_type": "code",
   "execution_count": 3,
   "id": "d8759cfb",
   "metadata": {},
   "outputs": [],
   "source": [
    "X=data.drop(['Outcome'],axis=1)\n",
    "y=data.Outcome"
   ]
  },
  {
   "cell_type": "code",
   "execution_count": 4,
   "id": "a5494d6a",
   "metadata": {},
   "outputs": [],
   "source": [
    "from sklearn.model_selection import train_test_split\n",
    "X_train,X_test,y_train,y_test=train_test_split(X,y,test_size=0.30,random_state=2,\n",
    "                                               stratify=y)"
   ]
  },
  {
   "cell_type": "code",
   "execution_count": 5,
   "id": "8f35709a",
   "metadata": {},
   "outputs": [
    {
     "name": "stdout",
     "output_type": "stream",
     "text": [
      "(697, 8)\n",
      "(299, 8)\n",
      "(697,)\n",
      "(299,)\n"
     ]
    }
   ],
   "source": [
    "print(X_train.shape)\n",
    "print(X_test.shape)\n",
    "print(y_train.shape)\n",
    "print(y_test.shape)"
   ]
  },
  {
   "cell_type": "code",
   "execution_count": 6,
   "id": "9c1d7ba4",
   "metadata": {},
   "outputs": [
    {
     "name": "stdout",
     "output_type": "stream",
     "text": [
      "Yes And No Value In Tain(y_Train)\n",
      "1    349\n",
      "0    348\n",
      "Name: Outcome, dtype: int64\n"
     ]
    }
   ],
   "source": [
    "print(f\"Yes And No Value In Tain(y_Train)\")\n",
    "print(y_train.value_counts())"
   ]
  },
  {
   "cell_type": "code",
   "execution_count": 7,
   "id": "fe9eaf0c",
   "metadata": {},
   "outputs": [
    {
     "name": "stdout",
     "output_type": "stream",
     "text": [
      "Yes And No Value In Tain(y_Test)\n",
      "0    150\n",
      "1    149\n",
      "Name: Outcome, dtype: int64\n"
     ]
    }
   ],
   "source": [
    "print(f\"Yes And No Value In Tain(y_Test)\")\n",
    "print(y_test.value_counts())"
   ]
  },
  {
   "cell_type": "markdown",
   "id": "196a26ee",
   "metadata": {},
   "source": [
    "### LogisticRegression"
   ]
  },
  {
   "cell_type": "code",
   "execution_count": 8,
   "id": "276377c2",
   "metadata": {},
   "outputs": [],
   "source": [
    "from sklearn.linear_model import LogisticRegression\n",
    "log_model=LogisticRegression(random_state=34)"
   ]
  },
  {
   "cell_type": "code",
   "execution_count": 9,
   "id": "33fdb075",
   "metadata": {},
   "outputs": [
    {
     "data": {
      "text/plain": [
       "LogisticRegression(random_state=34)"
      ]
     },
     "execution_count": 9,
     "metadata": {},
     "output_type": "execute_result"
    }
   ],
   "source": [
    "log_model.fit(X_train,y_train)"
   ]
  },
  {
   "cell_type": "code",
   "execution_count": 10,
   "id": "389a35b9",
   "metadata": {},
   "outputs": [],
   "source": [
    "prediction=log_model.predict(X_test)"
   ]
  },
  {
   "cell_type": "code",
   "execution_count": 11,
   "id": "26cd0ba4",
   "metadata": {},
   "outputs": [
    {
     "name": "stdout",
     "output_type": "stream",
     "text": [
      "              precision    recall  f1-score   support\n",
      "\n",
      "           0       0.71      0.79      0.75       150\n",
      "           1       0.76      0.68      0.72       149\n",
      "\n",
      "    accuracy                           0.73       299\n",
      "   macro avg       0.74      0.73      0.73       299\n",
      "weighted avg       0.74      0.73      0.73       299\n",
      "\n"
     ]
    }
   ],
   "source": [
    "from sklearn.metrics import classification_report\n",
    "print(classification_report(y_test,prediction))"
   ]
  },
  {
   "cell_type": "code",
   "execution_count": 12,
   "id": "866bb076",
   "metadata": {},
   "outputs": [
    {
     "name": "stdout",
     "output_type": "stream",
     "text": [
      "0.7388809182209469\n",
      "0.7324414715719063\n"
     ]
    }
   ],
   "source": [
    "print(log_model.score(X_train,y_train))\n",
    "print(log_model.score(X_test,y_test))"
   ]
  },
  {
   "cell_type": "markdown",
   "id": "bd4204ab",
   "metadata": {},
   "source": [
    "### RandomForest"
   ]
  },
  {
   "cell_type": "code",
   "execution_count": 13,
   "id": "04d98e33",
   "metadata": {},
   "outputs": [],
   "source": [
    "from sklearn.ensemble import RandomForestClassifier\n",
    "rfm=RandomForestClassifier(random_state=3)"
   ]
  },
  {
   "cell_type": "code",
   "execution_count": 14,
   "id": "6c645efe",
   "metadata": {},
   "outputs": [
    {
     "data": {
      "text/plain": [
       "RandomForestClassifier(random_state=3)"
      ]
     },
     "execution_count": 14,
     "metadata": {},
     "output_type": "execute_result"
    }
   ],
   "source": [
    "rfm.fit(X_train,y_train)"
   ]
  },
  {
   "cell_type": "code",
   "execution_count": 15,
   "id": "0051c228",
   "metadata": {},
   "outputs": [
    {
     "name": "stdout",
     "output_type": "stream",
     "text": [
      "              precision    recall  f1-score   support\n",
      "\n",
      "           0       0.95      0.81      0.87       150\n",
      "           1       0.83      0.96      0.89       149\n",
      "\n",
      "    accuracy                           0.88       299\n",
      "   macro avg       0.89      0.88      0.88       299\n",
      "weighted avg       0.89      0.88      0.88       299\n",
      "\n"
     ]
    }
   ],
   "source": [
    "prediction=rfm.predict(X_test)\n",
    "print(classification_report(y_test,prediction))"
   ]
  },
  {
   "cell_type": "code",
   "execution_count": 16,
   "id": "93d210aa",
   "metadata": {},
   "outputs": [
    {
     "name": "stdout",
     "output_type": "stream",
     "text": [
      "1.0\n",
      "0.882943143812709\n"
     ]
    }
   ],
   "source": [
    "print(rfm.score(X_train,y_train))\n",
    "print(rfm.score(X_test,y_test))"
   ]
  },
  {
   "cell_type": "markdown",
   "id": "b7849d17",
   "metadata": {},
   "source": [
    "### Support Vector Machine"
   ]
  },
  {
   "cell_type": "code",
   "execution_count": 17,
   "id": "dd9f828a",
   "metadata": {},
   "outputs": [],
   "source": [
    "from sklearn.svm import SVC\n",
    "classifier=SVC(random_state=4)"
   ]
  },
  {
   "cell_type": "code",
   "execution_count": 18,
   "id": "619045a6",
   "metadata": {},
   "outputs": [
    {
     "data": {
      "text/plain": [
       "SVC(random_state=4)"
      ]
     },
     "execution_count": 18,
     "metadata": {},
     "output_type": "execute_result"
    }
   ],
   "source": [
    "classifier.fit(X_train,y_train)  "
   ]
  },
  {
   "cell_type": "code",
   "execution_count": 19,
   "id": "15bec12f",
   "metadata": {},
   "outputs": [
    {
     "name": "stdout",
     "output_type": "stream",
     "text": [
      "              precision    recall  f1-score   support\n",
      "\n",
      "           0       0.82      0.75      0.78       150\n",
      "           1       0.77      0.84      0.80       149\n",
      "\n",
      "    accuracy                           0.79       299\n",
      "   macro avg       0.80      0.79      0.79       299\n",
      "weighted avg       0.80      0.79      0.79       299\n",
      "\n"
     ]
    }
   ],
   "source": [
    "prediction=classifier.predict(X_test)\n",
    "print(classification_report(y_test,prediction))"
   ]
  },
  {
   "cell_type": "code",
   "execution_count": 20,
   "id": "2af7a7be",
   "metadata": {},
   "outputs": [
    {
     "name": "stdout",
     "output_type": "stream",
     "text": [
      "0.8034433285509326\n",
      "0.7926421404682275\n"
     ]
    }
   ],
   "source": [
    "print(classifier.score(X_train,y_train))\n",
    "print(classifier.score(X_test,y_test))"
   ]
  },
  {
   "cell_type": "markdown",
   "id": "4ad97eb3",
   "metadata": {},
   "source": [
    "#### Summary Of Three Diff. ML Algorithm\n",
    "\n",
    "1. LogisticRegression Accuracy is 73% .\n",
    "2. RandomForest Accuracy is  89% .\n",
    "3. Support Vector Machine Accuracy is 78% .\n",
    "\n",
    "From the Above Analysis We can Extrapolate(conclude) that without Any Hyper-parameter tunning we got 89% Accuracy by using RandomForest Model. So, Let's use RandomForest Model for Hyper-Parameter to achieve Better Accuracy . "
   ]
  },
  {
   "cell_type": "markdown",
   "id": "ce05e34a",
   "metadata": {},
   "source": [
    "#### Hyperparameter tuning Method\n",
    "It is a Process of which help us findout the best parameter for our model.\n",
    "1. GridSearchCV\n",
    "2. RandomizedSearchCV\n",
    "3. Bayesian Optimization-Automate Hyperparameter Tuning (Hyperopt)\n",
    "4. Sequential model based optimization\n",
    "5. Optuna-Automate Hyperparameter Tuning\n",
    "6. Genetic Algorithm\n"
   ]
  },
  {
   "cell_type": "code",
   "execution_count": 21,
   "id": "b9555dfc",
   "metadata": {},
   "outputs": [
    {
     "name": "stdout",
     "output_type": "stream",
     "text": [
      "Default Parameter Used By RandomForest \n",
      " {'bootstrap': True, 'ccp_alpha': 0.0, 'class_weight': None, 'criterion': 'gini', 'max_depth': None, 'max_features': 'auto', 'max_leaf_nodes': None, 'max_samples': None, 'min_impurity_decrease': 0.0, 'min_impurity_split': None, 'min_samples_leaf': 1, 'min_samples_split': 2, 'min_weight_fraction_leaf': 0.0, 'n_estimators': 100, 'n_jobs': None, 'oob_score': False, 'random_state': 3, 'verbose': 0, 'warm_start': False}\n"
     ]
    }
   ],
   "source": [
    "print(\"Default Parameter Used By RandomForest \\n\",rfm.get_params())"
   ]
  },
  {
   "cell_type": "code",
   "execution_count": 22,
   "id": "25bc82b3",
   "metadata": {},
   "outputs": [],
   "source": [
    "rfm=RandomForestClassifier(random_state=3)"
   ]
  },
  {
   "cell_type": "code",
   "execution_count": 23,
   "id": "d1418f06",
   "metadata": {},
   "outputs": [
    {
     "name": "stdout",
     "output_type": "stream",
     "text": [
      "{'n_estimators': array([ 60,  70,  80,  90, 100, 110, 120, 130, 140]), 'criterion': ['gini', 'entropy'], 'max_features': ['auto', 'sqrt', 'log2']}\n"
     ]
    }
   ],
   "source": [
    "from sklearn.model_selection import RandomizedSearchCV\n",
    "rfm_grid={\n",
    "    'n_estimators':np.arange(60,150,10),\n",
    "    'criterion':['gini','entropy'],\n",
    "    'max_features' : [\"auto\", \"sqrt\", \"log2\"]\n",
    "  }\n",
    "print(rfm_grid)"
   ]
  },
  {
   "cell_type": "code",
   "execution_count": 24,
   "id": "0954c557",
   "metadata": {},
   "outputs": [
    {
     "name": "stdout",
     "output_type": "stream",
     "text": [
      "Fitting 5 folds for each of 10 candidates, totalling 50 fits\n"
     ]
    },
    {
     "data": {
      "text/plain": [
       "RandomizedSearchCV(estimator=RandomForestClassifier(random_state=3), n_jobs=-1,\n",
       "                   param_distributions={'criterion': ['gini', 'entropy'],\n",
       "                                        'max_features': ['auto', 'sqrt',\n",
       "                                                         'log2'],\n",
       "                                        'n_estimators': array([ 60,  70,  80,  90, 100, 110, 120, 130, 140])},\n",
       "                   random_state=20, verbose=1)"
      ]
     },
     "execution_count": 24,
     "metadata": {},
     "output_type": "execute_result"
    }
   ],
   "source": [
    "rfm_randomcv=RandomizedSearchCV(estimator=rfm,param_distributions=rfm_grid,n_jobs=-1,\n",
    "                               random_state=20,verbose=1)\n",
    "rfm_randomcv.fit(X_train,y_train)"
   ]
  },
  {
   "cell_type": "code",
   "execution_count": 25,
   "id": "89d03111",
   "metadata": {},
   "outputs": [
    {
     "data": {
      "text/plain": [
       "{'n_estimators': 100, 'max_features': 'auto', 'criterion': 'gini'}"
      ]
     },
     "execution_count": 25,
     "metadata": {},
     "output_type": "execute_result"
    }
   ],
   "source": [
    "rfm_randomcv.best_params_"
   ]
  },
  {
   "cell_type": "markdown",
   "id": "c1643c24",
   "metadata": {},
   "source": [
    "Above Parameter And Default Parameter are Same. So, No need To of Parameter tuning."
   ]
  },
  {
   "cell_type": "code",
   "execution_count": 26,
   "id": "f39d618b",
   "metadata": {},
   "outputs": [
    {
     "name": "stdout",
     "output_type": "stream",
     "text": [
      "              precision    recall  f1-score   support\n",
      "\n",
      "           0       0.95      0.81      0.87       150\n",
      "           1       0.83      0.96      0.89       149\n",
      "\n",
      "    accuracy                           0.88       299\n",
      "   macro avg       0.89      0.88      0.88       299\n",
      "weighted avg       0.89      0.88      0.88       299\n",
      "\n"
     ]
    }
   ],
   "source": [
    "prediction=rfm_randomcv.predict(X_test)\n",
    "print(classification_report(y_test,prediction))"
   ]
  },
  {
   "cell_type": "code",
   "execution_count": 27,
   "id": "1574f157",
   "metadata": {},
   "outputs": [
    {
     "name": "stdout",
     "output_type": "stream",
     "text": [
      "1.0\n",
      "0.882943143812709\n"
     ]
    }
   ],
   "source": [
    "print(rfm_randomcv.score(X_train,y_train))\n",
    "print(rfm_randomcv.score(X_test,y_test))"
   ]
  },
  {
   "cell_type": "code",
   "execution_count": 28,
   "id": "82b3cf6d",
   "metadata": {},
   "outputs": [
    {
     "data": {
      "text/plain": [
       "Index(['Pregnancies', 'Glucose', 'BloodPressure', 'SkinThickness', 'Insulin',\n",
       "       'BMI', 'DiabetesPedigreeFunction', 'Age'],\n",
       "      dtype='object')"
      ]
     },
     "execution_count": 28,
     "metadata": {},
     "output_type": "execute_result"
    }
   ],
   "source": [
    "X.columns"
   ]
  },
  {
   "cell_type": "code",
   "execution_count": 29,
   "id": "3967e0ad",
   "metadata": {},
   "outputs": [],
   "source": [
    "test_data_1=[[0.352941,0.387097,0.510204,0.119565,0.169675,0.367925,0.286095,0.333333\n",
    "]]\n",
    "test_data_2=[[0.588235,0.296774,0.622449,0.271739,0.132371,0.525157,0.331853,0.583333]]\n",
    "test_data_3=[[0.058824,0.393548,0.346939,0.239130,0.132371,0.191824,0.048423,0.000000]]\n",
    "test_data_4=[[0.294118,0.593548,0.591837,0.239130,0.132371,0.443396,0.249667,0.800000]]\n",
    "test_data_5=[[0.588235,0.800000,0.510204,0.239130,0.132371,0.622642,0.203909,0.216667]]"
   ]
  },
  {
   "cell_type": "code",
   "execution_count": 30,
   "id": "e7c188e5",
   "metadata": {},
   "outputs": [
    {
     "name": "stdout",
     "output_type": "stream",
     "text": [
      "[1]\n",
      "[1]\n",
      "[0]\n",
      "[1]\n",
      "[1]\n"
     ]
    }
   ],
   "source": [
    "print(rfm_randomcv.predict(test_data_1))\n",
    "print(rfm_randomcv.predict(test_data_2))\n",
    "print(rfm_randomcv.predict(test_data_3))\n",
    "print(rfm_randomcv.predict(test_data_4))\n",
    "print(rfm_randomcv.predict(test_data_5))"
   ]
  },
  {
   "cell_type": "code",
   "execution_count": 31,
   "id": "229c78bc",
   "metadata": {},
   "outputs": [
    {
     "data": {
      "text/html": [
       "<div>\n",
       "<style scoped>\n",
       "    .dataframe tbody tr th:only-of-type {\n",
       "        vertical-align: middle;\n",
       "    }\n",
       "\n",
       "    .dataframe tbody tr th {\n",
       "        vertical-align: top;\n",
       "    }\n",
       "\n",
       "    .dataframe thead th {\n",
       "        text-align: right;\n",
       "    }\n",
       "</style>\n",
       "<table border=\"1\" class=\"dataframe\">\n",
       "  <thead>\n",
       "    <tr style=\"text-align: right;\">\n",
       "      <th></th>\n",
       "      <th>Pregnancies</th>\n",
       "      <th>Glucose</th>\n",
       "      <th>BloodPressure</th>\n",
       "      <th>SkinThickness</th>\n",
       "      <th>Insulin</th>\n",
       "      <th>BMI</th>\n",
       "      <th>DiabetesPedigreeFunction</th>\n",
       "      <th>Age</th>\n",
       "    </tr>\n",
       "  </thead>\n",
       "  <tbody>\n",
       "    <tr>\n",
       "      <th>165</th>\n",
       "      <td>0.352941</td>\n",
       "      <td>0.387097</td>\n",
       "      <td>0.510204</td>\n",
       "      <td>0.119565</td>\n",
       "      <td>0.169675</td>\n",
       "      <td>0.367925</td>\n",
       "      <td>0.286095</td>\n",
       "      <td>0.333333</td>\n",
       "    </tr>\n",
       "    <tr>\n",
       "      <th>542</th>\n",
       "      <td>0.588235</td>\n",
       "      <td>0.296774</td>\n",
       "      <td>0.622449</td>\n",
       "      <td>0.271739</td>\n",
       "      <td>0.132371</td>\n",
       "      <td>0.525157</td>\n",
       "      <td>0.331853</td>\n",
       "      <td>0.583333</td>\n",
       "    </tr>\n",
       "    <tr>\n",
       "      <th>196</th>\n",
       "      <td>0.058824</td>\n",
       "      <td>0.393548</td>\n",
       "      <td>0.346939</td>\n",
       "      <td>0.239130</td>\n",
       "      <td>0.132371</td>\n",
       "      <td>0.191824</td>\n",
       "      <td>0.048423</td>\n",
       "      <td>0.000000</td>\n",
       "    </tr>\n",
       "    <tr>\n",
       "      <th>684</th>\n",
       "      <td>0.294118</td>\n",
       "      <td>0.593548</td>\n",
       "      <td>0.591837</td>\n",
       "      <td>0.239130</td>\n",
       "      <td>0.132371</td>\n",
       "      <td>0.443396</td>\n",
       "      <td>0.249667</td>\n",
       "      <td>0.800000</td>\n",
       "    </tr>\n",
       "    <tr>\n",
       "      <th>11</th>\n",
       "      <td>0.588235</td>\n",
       "      <td>0.800000</td>\n",
       "      <td>0.510204</td>\n",
       "      <td>0.239130</td>\n",
       "      <td>0.132371</td>\n",
       "      <td>0.622642</td>\n",
       "      <td>0.203909</td>\n",
       "      <td>0.216667</td>\n",
       "    </tr>\n",
       "  </tbody>\n",
       "</table>\n",
       "</div>"
      ],
      "text/plain": [
       "     Pregnancies   Glucose  ...  DiabetesPedigreeFunction       Age\n",
       "165     0.352941  0.387097  ...                  0.286095  0.333333\n",
       "542     0.588235  0.296774  ...                  0.331853  0.583333\n",
       "196     0.058824  0.393548  ...                  0.048423  0.000000\n",
       "684     0.294118  0.593548  ...                  0.249667  0.800000\n",
       "11      0.588235  0.800000  ...                  0.203909  0.216667\n",
       "\n",
       "[5 rows x 8 columns]"
      ]
     },
     "execution_count": 31,
     "metadata": {},
     "output_type": "execute_result"
    }
   ],
   "source": [
    "X_test.head()"
   ]
  },
  {
   "cell_type": "code",
   "execution_count": 32,
   "id": "8d17eb0c",
   "metadata": {},
   "outputs": [
    {
     "data": {
      "text/plain": [
       "165    1\n",
       "542    1\n",
       "196    0\n",
       "684    0\n",
       "11     1\n",
       "Name: Outcome, dtype: int64"
      ]
     },
     "execution_count": 32,
     "metadata": {},
     "output_type": "execute_result"
    }
   ],
   "source": [
    "y_test.head()"
   ]
  },
  {
   "cell_type": "code",
   "execution_count": 33,
   "id": "0b72d1ec",
   "metadata": {},
   "outputs": [
    {
     "name": "stdout",
     "output_type": "stream",
     "text": [
      "[1]\n"
     ]
    }
   ],
   "source": [
    "#Row Number 5 (False)\n",
    "test_data=[[1,89,66,23,94,28.1,0.167,21]]\n",
    "print(rfm_randomcv.predict(test_data))"
   ]
  },
  {
   "cell_type": "code",
   "execution_count": 34,
   "id": "8e06fb23",
   "metadata": {},
   "outputs": [
    {
     "name": "stdout",
     "output_type": "stream",
     "text": [
      "[1]\n"
     ]
    }
   ],
   "source": [
    "#Row Number 179(True)\n",
    "test_data=[[0,129,110,46,130,67.1,0.319,26]]\n",
    "print(rfm_randomcv.predict(test_data))"
   ]
  },
  {
   "cell_type": "code",
   "execution_count": 35,
   "id": "b03f18b1",
   "metadata": {},
   "outputs": [
    {
     "name": "stdout",
     "output_type": "stream",
     "text": [
      "[0]\n"
     ]
    }
   ],
   "source": [
    "#Row Number 501 (True)\n",
    "test_data=[[6,154,74,32,193,29.3,0.839,39]]\n",
    "print(rfm_randomcv.predict(test_data))"
   ]
  },
  {
   "cell_type": "code",
   "execution_count": 36,
   "id": "6afcf312",
   "metadata": {},
   "outputs": [
    {
     "name": "stdout",
     "output_type": "stream",
     "text": [
      "[0]\n"
     ]
    }
   ],
   "source": [
    "#Row Number (False)\n",
    "test_datat=[[2,82,52,22,115,28.5,1.699,25]]\n",
    "print(rfm_randomcv.predict(test_data))"
   ]
  },
  {
   "cell_type": "code",
   "execution_count": 40,
   "id": "c45ea43c",
   "metadata": {},
   "outputs": [
    {
     "ename": "AttributeError",
     "evalue": "'RandomizedSearchCV' object has no attribute 'summary'",
     "output_type": "error",
     "traceback": [
      "\u001b[0;31m---------------------------------------------------------------------------\u001b[0m",
      "\u001b[0;31mAttributeError\u001b[0m                            Traceback (most recent call last)",
      "\u001b[0;32m/tmp/ipykernel_6737/614040348.py\u001b[0m in \u001b[0;36m<module>\u001b[0;34m\u001b[0m\n\u001b[0;32m----> 1\u001b[0;31m \u001b[0mrfm_randomcv\u001b[0m\u001b[0;34m.\u001b[0m\u001b[0msummary\u001b[0m\u001b[0;34m(\u001b[0m\u001b[0;34m)\u001b[0m\u001b[0;34m\u001b[0m\u001b[0;34m\u001b[0m\u001b[0m\n\u001b[0m",
      "\u001b[0;31mAttributeError\u001b[0m: 'RandomizedSearchCV' object has no attribute 'summary'"
     ]
    }
   ],
   "source": [
    "rfm_randomcv"
   ]
  },
  {
   "cell_type": "code",
   "execution_count": 37,
   "id": "30b03896",
   "metadata": {},
   "outputs": [],
   "source": [
    "#Model Saving\n",
    "import pickle\n",
    "with open('Diabetes_Model','wb') as f:\n",
    "    pickle.dump(rfm_randomcv,f)"
   ]
  },
  {
   "cell_type": "code",
   "execution_count": 38,
   "id": "9eaa7637",
   "metadata": {},
   "outputs": [],
   "source": [
    "#Testing the model\n",
    "with open('Diabetes_Model','rb') as f:\n",
    "    mod=pickle.load(f)"
   ]
  },
  {
   "cell_type": "code",
   "execution_count": 39,
   "id": "a371496b",
   "metadata": {},
   "outputs": [
    {
     "data": {
      "text/plain": [
       "array([0])"
      ]
     },
     "execution_count": 39,
     "metadata": {},
     "output_type": "execute_result"
    }
   ],
   "source": [
    "x=mod.predict([[6,154,74,32,193,29.3,0.839,39]])\n",
    "x"
   ]
  },
  {
   "cell_type": "code",
   "execution_count": null,
   "id": "7b88eebf",
   "metadata": {},
   "outputs": [],
   "source": []
  },
  {
   "cell_type": "code",
   "execution_count": null,
   "id": "4bc3c2f0",
   "metadata": {},
   "outputs": [],
   "source": []
  }
 ],
 "metadata": {
  "kernelspec": {
   "display_name": "Python 3 (ipykernel)",
   "language": "python",
   "name": "python3"
  },
  "language_info": {
   "codemirror_mode": {
    "name": "ipython",
    "version": 3
   },
   "file_extension": ".py",
   "mimetype": "text/x-python",
   "name": "python",
   "nbconvert_exporter": "python",
   "pygments_lexer": "ipython3",
   "version": "3.8.10"
  }
 },
 "nbformat": 4,
 "nbformat_minor": 5
}
