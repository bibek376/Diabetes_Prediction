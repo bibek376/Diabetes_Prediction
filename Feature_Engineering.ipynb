{
 "cells": [
  {
   "cell_type": "code",
   "execution_count": 296,
   "id": "36facce5",
   "metadata": {},
   "outputs": [],
   "source": [
    "import pandas as pd\n",
    "import numpy as np\n",
    "import matplotlib.pyplot as plt\n",
    "import seaborn as sns\n",
    "import warnings\n",
    "warnings.filterwarnings('ignore')\n",
    "pd.pandas.set_option('display.max_columns',0)"
   ]
  },
  {
   "cell_type": "code",
   "execution_count": 297,
   "id": "f248ff7b",
   "metadata": {},
   "outputs": [
    {
     "data": {
      "text/html": [
       "<div>\n",
       "<style scoped>\n",
       "    .dataframe tbody tr th:only-of-type {\n",
       "        vertical-align: middle;\n",
       "    }\n",
       "\n",
       "    .dataframe tbody tr th {\n",
       "        vertical-align: top;\n",
       "    }\n",
       "\n",
       "    .dataframe thead th {\n",
       "        text-align: right;\n",
       "    }\n",
       "</style>\n",
       "<table border=\"1\" class=\"dataframe\">\n",
       "  <thead>\n",
       "    <tr style=\"text-align: right;\">\n",
       "      <th></th>\n",
       "      <th>Pregnancies</th>\n",
       "      <th>Glucose</th>\n",
       "      <th>BloodPressure</th>\n",
       "      <th>SkinThickness</th>\n",
       "      <th>Insulin</th>\n",
       "      <th>BMI</th>\n",
       "      <th>DiabetesPedigreeFunction</th>\n",
       "      <th>Age</th>\n",
       "      <th>Outcome</th>\n",
       "    </tr>\n",
       "  </thead>\n",
       "  <tbody>\n",
       "    <tr>\n",
       "      <th>242</th>\n",
       "      <td>3</td>\n",
       "      <td>139.0</td>\n",
       "      <td>54.0</td>\n",
       "      <td>29.0</td>\n",
       "      <td>125.0</td>\n",
       "      <td>25.6</td>\n",
       "      <td>0.402</td>\n",
       "      <td>22</td>\n",
       "      <td>1</td>\n",
       "    </tr>\n",
       "    <tr>\n",
       "      <th>55</th>\n",
       "      <td>1</td>\n",
       "      <td>73.0</td>\n",
       "      <td>50.0</td>\n",
       "      <td>10.0</td>\n",
       "      <td>125.0</td>\n",
       "      <td>23.0</td>\n",
       "      <td>0.248</td>\n",
       "      <td>21</td>\n",
       "      <td>0</td>\n",
       "    </tr>\n",
       "    <tr>\n",
       "      <th>594</th>\n",
       "      <td>6</td>\n",
       "      <td>123.0</td>\n",
       "      <td>72.0</td>\n",
       "      <td>45.0</td>\n",
       "      <td>230.0</td>\n",
       "      <td>33.6</td>\n",
       "      <td>0.733</td>\n",
       "      <td>34</td>\n",
       "      <td>0</td>\n",
       "    </tr>\n",
       "    <tr>\n",
       "      <th>8</th>\n",
       "      <td>2</td>\n",
       "      <td>197.0</td>\n",
       "      <td>70.0</td>\n",
       "      <td>45.0</td>\n",
       "      <td>543.0</td>\n",
       "      <td>30.5</td>\n",
       "      <td>0.158</td>\n",
       "      <td>53</td>\n",
       "      <td>1</td>\n",
       "    </tr>\n",
       "    <tr>\n",
       "      <th>463</th>\n",
       "      <td>5</td>\n",
       "      <td>88.0</td>\n",
       "      <td>78.0</td>\n",
       "      <td>30.0</td>\n",
       "      <td>125.0</td>\n",
       "      <td>27.6</td>\n",
       "      <td>0.258</td>\n",
       "      <td>37</td>\n",
       "      <td>0</td>\n",
       "    </tr>\n",
       "  </tbody>\n",
       "</table>\n",
       "</div>"
      ],
      "text/plain": [
       "     Pregnancies  Glucose  ...  Age  Outcome\n",
       "242            3    139.0  ...   22        1\n",
       "55             1     73.0  ...   21        0\n",
       "594            6    123.0  ...   34        0\n",
       "8              2    197.0  ...   53        1\n",
       "463            5     88.0  ...   37        0\n",
       "\n",
       "[5 rows x 9 columns]"
      ]
     },
     "execution_count": 297,
     "metadata": {},
     "output_type": "execute_result"
    }
   ],
   "source": [
    "data=pd.read_csv(\"After_EDA.csv\",index_col=0)\n",
    "data.sample(5)"
   ]
  },
  {
   "cell_type": "code",
   "execution_count": 298,
   "id": "d588b2d8",
   "metadata": {},
   "outputs": [
    {
     "data": {
      "text/html": [
       "<div>\n",
       "<style scoped>\n",
       "    .dataframe tbody tr th:only-of-type {\n",
       "        vertical-align: middle;\n",
       "    }\n",
       "\n",
       "    .dataframe tbody tr th {\n",
       "        vertical-align: top;\n",
       "    }\n",
       "\n",
       "    .dataframe thead th {\n",
       "        text-align: right;\n",
       "    }\n",
       "</style>\n",
       "<table border=\"1\" class=\"dataframe\">\n",
       "  <thead>\n",
       "    <tr style=\"text-align: right;\">\n",
       "      <th></th>\n",
       "      <th>count</th>\n",
       "      <th>mean</th>\n",
       "      <th>std</th>\n",
       "      <th>min</th>\n",
       "      <th>25%</th>\n",
       "      <th>50%</th>\n",
       "      <th>75%</th>\n",
       "      <th>max</th>\n",
       "    </tr>\n",
       "  </thead>\n",
       "  <tbody>\n",
       "    <tr>\n",
       "      <th>Pregnancies</th>\n",
       "      <td>768.0</td>\n",
       "      <td>3.845052</td>\n",
       "      <td>3.369578</td>\n",
       "      <td>0.000</td>\n",
       "      <td>1.00000</td>\n",
       "      <td>3.0000</td>\n",
       "      <td>6.00000</td>\n",
       "      <td>17.00</td>\n",
       "    </tr>\n",
       "    <tr>\n",
       "      <th>Glucose</th>\n",
       "      <td>768.0</td>\n",
       "      <td>121.656250</td>\n",
       "      <td>30.438286</td>\n",
       "      <td>44.000</td>\n",
       "      <td>99.75000</td>\n",
       "      <td>117.0000</td>\n",
       "      <td>140.25000</td>\n",
       "      <td>199.00</td>\n",
       "    </tr>\n",
       "    <tr>\n",
       "      <th>BloodPressure</th>\n",
       "      <td>768.0</td>\n",
       "      <td>72.386719</td>\n",
       "      <td>12.096642</td>\n",
       "      <td>24.000</td>\n",
       "      <td>64.00000</td>\n",
       "      <td>72.0000</td>\n",
       "      <td>80.00000</td>\n",
       "      <td>122.00</td>\n",
       "    </tr>\n",
       "    <tr>\n",
       "      <th>SkinThickness</th>\n",
       "      <td>768.0</td>\n",
       "      <td>29.108073</td>\n",
       "      <td>8.791221</td>\n",
       "      <td>7.000</td>\n",
       "      <td>25.00000</td>\n",
       "      <td>29.0000</td>\n",
       "      <td>32.00000</td>\n",
       "      <td>99.00</td>\n",
       "    </tr>\n",
       "    <tr>\n",
       "      <th>Insulin</th>\n",
       "      <td>768.0</td>\n",
       "      <td>140.671875</td>\n",
       "      <td>86.383060</td>\n",
       "      <td>14.000</td>\n",
       "      <td>121.50000</td>\n",
       "      <td>125.0000</td>\n",
       "      <td>127.25000</td>\n",
       "      <td>846.00</td>\n",
       "    </tr>\n",
       "    <tr>\n",
       "      <th>BMI</th>\n",
       "      <td>768.0</td>\n",
       "      <td>32.455208</td>\n",
       "      <td>6.875177</td>\n",
       "      <td>18.200</td>\n",
       "      <td>27.50000</td>\n",
       "      <td>32.3000</td>\n",
       "      <td>36.60000</td>\n",
       "      <td>67.10</td>\n",
       "    </tr>\n",
       "    <tr>\n",
       "      <th>DiabetesPedigreeFunction</th>\n",
       "      <td>768.0</td>\n",
       "      <td>0.471876</td>\n",
       "      <td>0.331329</td>\n",
       "      <td>0.078</td>\n",
       "      <td>0.24375</td>\n",
       "      <td>0.3725</td>\n",
       "      <td>0.62625</td>\n",
       "      <td>2.42</td>\n",
       "    </tr>\n",
       "    <tr>\n",
       "      <th>Age</th>\n",
       "      <td>768.0</td>\n",
       "      <td>33.240885</td>\n",
       "      <td>11.760232</td>\n",
       "      <td>21.000</td>\n",
       "      <td>24.00000</td>\n",
       "      <td>29.0000</td>\n",
       "      <td>41.00000</td>\n",
       "      <td>81.00</td>\n",
       "    </tr>\n",
       "    <tr>\n",
       "      <th>Outcome</th>\n",
       "      <td>768.0</td>\n",
       "      <td>0.348958</td>\n",
       "      <td>0.476951</td>\n",
       "      <td>0.000</td>\n",
       "      <td>0.00000</td>\n",
       "      <td>0.0000</td>\n",
       "      <td>1.00000</td>\n",
       "      <td>1.00</td>\n",
       "    </tr>\n",
       "  </tbody>\n",
       "</table>\n",
       "</div>"
      ],
      "text/plain": [
       "                          count        mean  ...        75%     max\n",
       "Pregnancies               768.0    3.845052  ...    6.00000   17.00\n",
       "Glucose                   768.0  121.656250  ...  140.25000  199.00\n",
       "BloodPressure             768.0   72.386719  ...   80.00000  122.00\n",
       "SkinThickness             768.0   29.108073  ...   32.00000   99.00\n",
       "Insulin                   768.0  140.671875  ...  127.25000  846.00\n",
       "BMI                       768.0   32.455208  ...   36.60000   67.10\n",
       "DiabetesPedigreeFunction  768.0    0.471876  ...    0.62625    2.42\n",
       "Age                       768.0   33.240885  ...   41.00000   81.00\n",
       "Outcome                   768.0    0.348958  ...    1.00000    1.00\n",
       "\n",
       "[9 rows x 8 columns]"
      ]
     },
     "execution_count": 298,
     "metadata": {},
     "output_type": "execute_result"
    }
   ],
   "source": [
    "data.describe().T"
   ]
  },
  {
   "cell_type": "markdown",
   "id": "36042327",
   "metadata": {},
   "source": [
    "#### outlier in a dataset using Inter quartile Range(IQR)"
   ]
  },
  {
   "cell_type": "code",
   "execution_count": 299,
   "id": "4d4a83aa",
   "metadata": {},
   "outputs": [
    {
     "data": {
      "text/plain": [
       "<AxesSubplot:ylabel='BMI'>"
      ]
     },
     "execution_count": 299,
     "metadata": {},
     "output_type": "execute_result"
    },
    {
     "data": {
      "image/png": "[encoded data removed]",
      "text/plain": [
       "<Figure size 432x288 with 1 Axes>"
      ]
     },
     "metadata": {
      "needs_background": "light"
     },
     "output_type": "display_data"
    }
   ],
   "source": [
    "sns.scatterplot(data=data.BMI)"
   ]
  },
  {
   "cell_type": "markdown",
   "id": "3b444221",
   "metadata": {},
   "source": [
    "It Looks Like We have some outliars in a data-set"
   ]
  },
  {
   "cell_type": "code",
   "execution_count": 300,
   "id": "dc9b2bd3",
   "metadata": {},
   "outputs": [
    {
     "data": {
      "text/plain": [
       "count    768.000000\n",
       "mean      32.455208\n",
       "std        6.875177\n",
       "min       18.200000\n",
       "25%       27.500000\n",
       "50%       32.300000\n",
       "75%       36.600000\n",
       "max       67.100000\n",
       "Name: BMI, dtype: float64"
      ]
     },
     "execution_count": 300,
     "metadata": {},
     "output_type": "execute_result"
    }
   ],
   "source": [
    "data.BMI.describe()"
   ]
  },
  {
   "cell_type": "code",
   "execution_count": 301,
   "id": "c8c7dad4",
   "metadata": {},
   "outputs": [
    {
     "data": {
      "text/plain": [
       "0.25    27.5\n",
       "0.50    32.3\n",
       "0.75    36.6\n",
       "Name: BMI, dtype: float64"
      ]
     },
     "execution_count": 301,
     "metadata": {},
     "output_type": "execute_result"
    }
   ],
   "source": [
    "# Let's Find out Q1,Q2,Q3\n",
    "data.BMI.quantile([0.25,0.50,0.75])"
   ]
  },
  {
   "cell_type": "markdown",
   "id": "bfd08411",
   "metadata": {},
   "source": [
    "we Got,\n",
    "\n",
    "Q1= 27.5\n",
    "\n",
    "Q2=32.3\n",
    "\n",
    "Q3=36.6\n",
    "\n",
    "So,Let's Findout IQR"
   ]
  },
  {
   "cell_type": "code",
   "execution_count": 302,
   "id": "cf785b89",
   "metadata": {},
   "outputs": [
    {
     "name": "stdout",
     "output_type": "stream",
     "text": [
      "IQR IS 9.100000000000001\n"
     ]
    }
   ],
   "source": [
    "Q1=27.5\n",
    "Q3=36.6\n",
    "IQR=Q3-Q1\n",
    "print(\"IQR IS\",IQR)"
   ]
  },
  {
   "cell_type": "code",
   "execution_count": 303,
   "id": "082a43d7",
   "metadata": {},
   "outputs": [
    {
     "name": "stdout",
     "output_type": "stream",
     "text": [
      "High Value Is 50.25\n",
      "Low Value Is 13.849999999999998\n"
     ]
    }
   ],
   "source": [
    "# Calculate High And Low Value Using IQR\n",
    "High=Q3+1.5*IQR\n",
    "Low=Q1-1.5*IQR\n",
    "print(\"High Value Is\",High)\n",
    "print(\"Low Value Is\",Low)"
   ]
  },
  {
   "cell_type": "code",
   "execution_count": 304,
   "id": "74962f8f",
   "metadata": {},
   "outputs": [],
   "source": [
    "df=data.copy()"
   ]
  },
  {
   "cell_type": "code",
   "execution_count": 305,
   "id": "51fdb622",
   "metadata": {},
   "outputs": [],
   "source": [
    "df=df[df['BMI']<=High]\n",
    "df=df[df['BMI']>=Low]"
   ]
  },
  {
   "cell_type": "code",
   "execution_count": 306,
   "id": "c730c935",
   "metadata": {},
   "outputs": [
    {
     "data": {
      "text/plain": [
       "<AxesSubplot:ylabel='BMI'>"
      ]
     },
     "execution_count": 306,
     "metadata": {},
     "output_type": "execute_result"
    },
    {
     "data": {
      "image/png": "[encoded data removed]",
      "text/plain": [
       "<Figure size 432x288 with 1 Axes>"
      ]
     },
     "metadata": {
      "needs_background": "light"
     },
     "output_type": "display_data"
    }
   ],
   "source": [
    "#After REmoving the Outliars\n",
    "sns.scatterplot(data=df.BMI)"
   ]
  },
  {
   "cell_type": "code",
   "execution_count": 307,
   "id": "10fc1e0c",
   "metadata": {},
   "outputs": [
    {
     "data": {
      "text/html": [
       "<div>\n",
       "<style scoped>\n",
       "    .dataframe tbody tr th:only-of-type {\n",
       "        vertical-align: middle;\n",
       "    }\n",
       "\n",
       "    .dataframe tbody tr th {\n",
       "        vertical-align: top;\n",
       "    }\n",
       "\n",
       "    .dataframe thead th {\n",
       "        text-align: right;\n",
       "    }\n",
       "</style>\n",
       "<table border=\"1\" class=\"dataframe\">\n",
       "  <thead>\n",
       "    <tr style=\"text-align: right;\">\n",
       "      <th></th>\n",
       "      <th>Pregnancies</th>\n",
       "      <th>Glucose</th>\n",
       "      <th>BloodPressure</th>\n",
       "      <th>SkinThickness</th>\n",
       "      <th>Insulin</th>\n",
       "      <th>BMI</th>\n",
       "      <th>DiabetesPedigreeFunction</th>\n",
       "      <th>Age</th>\n",
       "      <th>Outcome</th>\n",
       "    </tr>\n",
       "  </thead>\n",
       "  <tbody>\n",
       "    <tr>\n",
       "      <th>66</th>\n",
       "      <td>0</td>\n",
       "      <td>109.0</td>\n",
       "      <td>88.0</td>\n",
       "      <td>30.0</td>\n",
       "      <td>125.0</td>\n",
       "      <td>32.5</td>\n",
       "      <td>0.855</td>\n",
       "      <td>38</td>\n",
       "      <td>1</td>\n",
       "    </tr>\n",
       "    <tr>\n",
       "      <th>510</th>\n",
       "      <td>12</td>\n",
       "      <td>84.0</td>\n",
       "      <td>72.0</td>\n",
       "      <td>31.0</td>\n",
       "      <td>125.0</td>\n",
       "      <td>29.7</td>\n",
       "      <td>0.297</td>\n",
       "      <td>46</td>\n",
       "      <td>1</td>\n",
       "    </tr>\n",
       "    <tr>\n",
       "      <th>692</th>\n",
       "      <td>2</td>\n",
       "      <td>121.0</td>\n",
       "      <td>70.0</td>\n",
       "      <td>32.0</td>\n",
       "      <td>95.0</td>\n",
       "      <td>39.1</td>\n",
       "      <td>0.886</td>\n",
       "      <td>23</td>\n",
       "      <td>0</td>\n",
       "    </tr>\n",
       "  </tbody>\n",
       "</table>\n",
       "</div>"
      ],
      "text/plain": [
       "     Pregnancies  Glucose  ...  Age  Outcome\n",
       "66             0    109.0  ...   38        1\n",
       "510           12     84.0  ...   46        1\n",
       "692            2    121.0  ...   23        0\n",
       "\n",
       "[3 rows x 9 columns]"
      ]
     },
     "execution_count": 307,
     "metadata": {},
     "output_type": "execute_result"
    }
   ],
   "source": [
    "df.sample(3)"
   ]
  },
  {
   "cell_type": "code",
   "execution_count": 308,
   "id": "addade6c",
   "metadata": {},
   "outputs": [
    {
     "name": "stdout",
     "output_type": "stream",
     "text": [
      "Total Number's Of Outliar  8\n"
     ]
    }
   ],
   "source": [
    "print(\"Total Number's Of Outliar \",data.shape[0]-df.shape[0])"
   ]
  },
  {
   "cell_type": "code",
   "execution_count": 309,
   "id": "3fc5fe97",
   "metadata": {},
   "outputs": [],
   "source": [
    "X=df.drop(['Outcome'],axis=1)\n",
    "y=df['Outcome']"
   ]
  },
  {
   "cell_type": "code",
   "execution_count": 310,
   "id": "0dbbd09e",
   "metadata": {},
   "outputs": [
    {
     "data": {
      "text/plain": [
       "ExtraTreesRegressor()"
      ]
     },
     "execution_count": 310,
     "metadata": {},
     "output_type": "execute_result"
    }
   ],
   "source": [
    "from sklearn.ensemble import ExtraTreesRegressor\n",
    "model=ExtraTreesRegressor()\n",
    "model.fit(X,y)"
   ]
  },
  {
   "cell_type": "code",
   "execution_count": 311,
   "id": "f8ed1e77",
   "metadata": {},
   "outputs": [
    {
     "name": "stdout",
     "output_type": "stream",
     "text": [
      "[0.10105778 0.29529141 0.08679554 0.06923347 0.07197687 0.14078297\n",
      " 0.10235329 0.13250867]\n"
     ]
    }
   ],
   "source": [
    "print(model.feature_importances_)"
   ]
  },
  {
   "cell_type": "code",
   "execution_count": 312,
   "id": "55f01868",
   "metadata": {},
   "outputs": [
    {
     "data": {
      "image/png": "[encoded data removed]",
      "text/plain": [
       "<Figure size 576x576 with 1 Axes>"
      ]
     },
     "metadata": {
      "needs_background": "light"
     },
     "output_type": "display_data"
    }
   ],
   "source": [
    "plt.figure(figsize=(8,8))\n",
    "feature_importance=pd.Series(model.feature_importances_,index=X.columns)\n",
    "feature_importance.nlargest(8).plot(kind='barh')\n",
    "plt.show()"
   ]
  },
  {
   "cell_type": "markdown",
   "id": "9011ae38",
   "metadata": {},
   "source": [
    "### Summary\n",
    "\n",
    "i.> Outcome and Glucose have strong conncetion "
   ]
  },
  {
   "cell_type": "code",
   "execution_count": 313,
   "id": "c4e39997",
   "metadata": {},
   "outputs": [
    {
     "data": {
      "text/plain": [
       "{'Pregnancies': 107,\n",
       " 'Glucose': 0,\n",
       " 'BloodPressure': 0,\n",
       " 'SkinThickness': 0,\n",
       " 'Insulin': 0,\n",
       " 'BMI': 0,\n",
       " 'DiabetesPedigreeFunction': 0,\n",
       " 'Age': 0,\n",
       " 'Outcome': 498}"
      ]
     },
     "execution_count": 313,
     "metadata": {},
     "output_type": "execute_result"
    }
   ],
   "source": [
    "Dict_For_Zero_Value=dict()\n",
    "for i in df.columns:\n",
    "    Dict_For_Zero_Value[i]=df[df[i]==0].shape[0]\n",
    "Dict_For_Zero_Value"
   ]
  },
  {
   "cell_type": "code",
   "execution_count": 314,
   "id": "1695079c",
   "metadata": {},
   "outputs": [
    {
     "data": {
      "text/plain": [
       "7.0"
      ]
     },
     "execution_count": 314,
     "metadata": {},
     "output_type": "execute_result"
    }
   ],
   "source": [
    "df.SkinThickness.min()"
   ]
  },
  {
   "cell_type": "code",
   "execution_count": 316,
   "id": "71d91937",
   "metadata": {},
   "outputs": [
    {
     "data": {
      "text/plain": [
       "254    7.0\n",
       "519    7.0\n",
       "Name: SkinThickness, dtype: float64"
      ]
     },
     "execution_count": 316,
     "metadata": {},
     "output_type": "execute_result"
    }
   ],
   "source": [
    "df.SkinThickness[df.SkinThickness==7]"
   ]
  },
  {
   "cell_type": "markdown",
   "id": "c6bce1bc",
   "metadata": {},
   "source": [
    "### Data Normalization\n",
    "Normalization (min-max Normalization)\n",
    "\n",
    "In this approach we scale down the feature in  between 0 to 1"
   ]
  },
  {
   "cell_type": "code",
   "execution_count": 275,
   "id": "214e6a35",
   "metadata": {},
   "outputs": [],
   "source": [
    "from sklearn.preprocessing import MinMaxScaler\n",
    "scaling=MinMaxScaler()"
   ]
  },
  {
   "cell_type": "code",
   "execution_count": 276,
   "id": "12f6154f",
   "metadata": {},
   "outputs": [],
   "source": [
    "col_for_nor=['Pregnancies','Glucose','BloodPressure','SkinThickness','Insulin',\n",
    "            'BMI','DiabetesPedigreeFunction','Age']"
   ]
  },
  {
   "cell_type": "code",
   "execution_count": 277,
   "id": "b3b2339d",
   "metadata": {},
   "outputs": [],
   "source": [
    "df[col_for_nor]=scaling.fit_transform(df[col_for_nor])"
   ]
  },
  {
   "cell_type": "code",
   "execution_count": 278,
   "id": "85959262",
   "metadata": {},
   "outputs": [
    {
     "data": {
      "text/html": [
       "<div>\n",
       "<style scoped>\n",
       "    .dataframe tbody tr th:only-of-type {\n",
       "        vertical-align: middle;\n",
       "    }\n",
       "\n",
       "    .dataframe tbody tr th {\n",
       "        vertical-align: top;\n",
       "    }\n",
       "\n",
       "    .dataframe thead th {\n",
       "        text-align: right;\n",
       "    }\n",
       "</style>\n",
       "<table border=\"1\" class=\"dataframe\">\n",
       "  <thead>\n",
       "    <tr style=\"text-align: right;\">\n",
       "      <th></th>\n",
       "      <th>Pregnancies</th>\n",
       "      <th>Glucose</th>\n",
       "      <th>BloodPressure</th>\n",
       "      <th>SkinThickness</th>\n",
       "      <th>Insulin</th>\n",
       "      <th>BMI</th>\n",
       "      <th>DiabetesPedigreeFunction</th>\n",
       "      <th>Age</th>\n",
       "      <th>Outcome</th>\n",
       "    </tr>\n",
       "  </thead>\n",
       "  <tbody>\n",
       "    <tr>\n",
       "      <th>532</th>\n",
       "      <td>0.058824</td>\n",
       "      <td>0.270968</td>\n",
       "      <td>0.428571</td>\n",
       "      <td>0.48913</td>\n",
       "      <td>0.060168</td>\n",
       "      <td>0.726415</td>\n",
       "      <td>0.372723</td>\n",
       "      <td>0.133333</td>\n",
       "      <td>0</td>\n",
       "    </tr>\n",
       "    <tr>\n",
       "      <th>749</th>\n",
       "      <td>0.352941</td>\n",
       "      <td>0.761290</td>\n",
       "      <td>0.387755</td>\n",
       "      <td>0.23913</td>\n",
       "      <td>0.132371</td>\n",
       "      <td>0.191824</td>\n",
       "      <td>0.044425</td>\n",
       "      <td>0.483333</td>\n",
       "      <td>1</td>\n",
       "    </tr>\n",
       "  </tbody>\n",
       "</table>\n",
       "</div>"
      ],
      "text/plain": [
       "     Pregnancies   Glucose  ...       Age  Outcome\n",
       "532     0.058824  0.270968  ...  0.133333        0\n",
       "749     0.352941  0.761290  ...  0.483333        1\n",
       "\n",
       "[2 rows x 9 columns]"
      ]
     },
     "execution_count": 278,
     "metadata": {},
     "output_type": "execute_result"
    }
   ],
   "source": [
    "df.sample(2)"
   ]
  },
  {
   "cell_type": "markdown",
   "id": "c004f1a2",
   "metadata": {},
   "source": [
    "Let's Check ,If Data-set is imbalance or Not"
   ]
  },
  {
   "cell_type": "code",
   "execution_count": 279,
   "id": "137606d9",
   "metadata": {},
   "outputs": [
    {
     "name": "stdout",
     "output_type": "stream",
     "text": [
      "498\n",
      "262\n"
     ]
    }
   ],
   "source": [
    "print(df[df['Outcome']==0].shape[0])\n",
    "print(df[df['Outcome']==1].shape[0])"
   ]
  },
  {
   "cell_type": "code",
   "execution_count": 280,
   "id": "87a00502",
   "metadata": {},
   "outputs": [],
   "source": [
    "Arry_List=[df[df['Outcome']==0].shape[0],df[df['Outcome']==1].shape[0]]"
   ]
  },
  {
   "cell_type": "code",
   "execution_count": 281,
   "id": "559cd1ef",
   "metadata": {},
   "outputs": [
    {
     "data": {
      "image/png": "[encoded data removed]",
      "text/plain": [
       "<Figure size 432x288 with 1 Axes>"
      ]
     },
     "metadata": {
      "needs_background": "light"
     },
     "output_type": "display_data"
    }
   ],
   "source": [
    "plt.bar(['NO','Yes'],Arry_List,width=0.4,)\n",
    "plt.title(\"Diabetes YES VS NO\")\n",
    "plt.ylabel(\"Numbers Of Yes And No\")\n",
    "plt.grid(True)\n",
    "plt.show()"
   ]
  },
  {
   "cell_type": "markdown",
   "id": "2b003801",
   "metadata": {},
   "source": [
    "We Have 498 of No but Only 262 is Yes. That means, our Data Set is Imbalanced ."
   ]
  },
  {
   "cell_type": "code",
   "execution_count": 282,
   "id": "a9b12499",
   "metadata": {},
   "outputs": [
    {
     "data": {
      "text/plain": [
       "(760, 9)"
      ]
     },
     "execution_count": 282,
     "metadata": {},
     "output_type": "execute_result"
    }
   ],
   "source": [
    "df.shape"
   ]
  },
  {
   "cell_type": "code",
   "execution_count": 283,
   "id": "a15b78cb",
   "metadata": {},
   "outputs": [],
   "source": [
    "df1=df.copy()"
   ]
  },
  {
   "cell_type": "code",
   "execution_count": 284,
   "id": "b3208224",
   "metadata": {},
   "outputs": [
    {
     "data": {
      "text/plain": [
       "(498, 262)"
      ]
     },
     "execution_count": 284,
     "metadata": {},
     "output_type": "execute_result"
    }
   ],
   "source": [
    "count_class_0, count_class_1 = df.Outcome.value_counts()\n",
    "count_class_0, count_class_1"
   ]
  },
  {
   "cell_type": "code",
   "execution_count": 285,
   "id": "0f66fc1f",
   "metadata": {},
   "outputs": [],
   "source": [
    "# Divide by class\n",
    "df_class_0 = df[df['Outcome'] == 0]\n",
    "df_class_1 = df[df['Outcome'] == 1]"
   ]
  },
  {
   "cell_type": "code",
   "execution_count": 286,
   "id": "feceb5ef",
   "metadata": {},
   "outputs": [
    {
     "name": "stdout",
     "output_type": "stream",
     "text": [
      "(498, 9)\n",
      "(262, 9)\n"
     ]
    }
   ],
   "source": [
    "print(df_class_0.shape)\n",
    "print(df_class_1.shape)"
   ]
  },
  {
   "cell_type": "code",
   "execution_count": 287,
   "id": "4bbc82db",
   "metadata": {},
   "outputs": [
    {
     "data": {
      "text/plain": [
       "{'Pregnancies': 107,\n",
       " 'Glucose': 1,\n",
       " 'BloodPressure': 1,\n",
       " 'SkinThickness': 2,\n",
       " 'Insulin': 1,\n",
       " 'BMI': 3,\n",
       " 'DiabetesPedigreeFunction': 1,\n",
       " 'Age': 63,\n",
       " 'Outcome': 498}"
      ]
     },
     "execution_count": 287,
     "metadata": {},
     "output_type": "execute_result"
    }
   ],
   "source": [
    "Dict_For_Zero_Value=dict()\n",
    "for i in df.columns:\n",
    "    Dict_For_Zero_Value[i]=df[df[i]==0].shape[0]\n",
    "Dict_For_Zero_Value"
   ]
  },
  {
   "cell_type": "markdown",
   "id": "5e8e2163",
   "metadata": {},
   "source": [
    "##### Let's Handle Imblanced Data Using Oversampling the minority class"
   ]
  },
  {
   "cell_type": "code",
   "execution_count": 288,
   "id": "5a909fd5",
   "metadata": {},
   "outputs": [],
   "source": [
    "df_class_1_over=df_class_1.sample(df_class_0.shape[0],replace=True,random_state=23)\n",
    "after_over_sample=pd.concat([df_class_0,df_class_1_over],axis=0)"
   ]
  },
  {
   "cell_type": "code",
   "execution_count": 289,
   "id": "f0e793e8",
   "metadata": {},
   "outputs": [
    {
     "name": "stdout",
     "output_type": "stream",
     "text": [
      "Random over-sampling:\n",
      "0    498\n",
      "1    498\n",
      "Name: Outcome, dtype: int64\n"
     ]
    }
   ],
   "source": [
    "print('Random over-sampling:')\n",
    "print(after_over_sample.Outcome.value_counts())"
   ]
  },
  {
   "cell_type": "code",
   "execution_count": 290,
   "id": "b9577df7",
   "metadata": {},
   "outputs": [
    {
     "data": {
      "text/plain": [
       "(996, 9)"
      ]
     },
     "execution_count": 290,
     "metadata": {},
     "output_type": "execute_result"
    }
   ],
   "source": [
    "after_over_sample.shape"
   ]
  },
  {
   "cell_type": "code",
   "execution_count": 291,
   "id": "1f9801c4",
   "metadata": {},
   "outputs": [
    {
     "data": {
      "text/plain": [
       "{'Pregnancies': 133,\n",
       " 'Glucose': 1,\n",
       " 'BloodPressure': 1,\n",
       " 'SkinThickness': 3,\n",
       " 'Insulin': 1,\n",
       " 'BMI': 3,\n",
       " 'DiabetesPedigreeFunction': 1,\n",
       " 'Age': 67,\n",
       " 'Outcome': 498}"
      ]
     },
     "execution_count": 291,
     "metadata": {},
     "output_type": "execute_result"
    }
   ],
   "source": [
    "Dict_For_Zero_Value=dict()\n",
    "for i in after_over_sample.columns:\n",
    "    Dict_For_Zero_Value[i]=after_over_sample[after_over_sample[i]==0].shape[0]\n",
    "Dict_For_Zero_Value"
   ]
  },
  {
   "cell_type": "code",
   "execution_count": null,
   "id": "56b67723",
   "metadata": {},
   "outputs": [],
   "source": []
  },
  {
   "cell_type": "code",
   "execution_count": 292,
   "id": "75b6410d",
   "metadata": {},
   "outputs": [
    {
     "data": {
      "text/html": [
       "<div>\n",
       "<style scoped>\n",
       "    .dataframe tbody tr th:only-of-type {\n",
       "        vertical-align: middle;\n",
       "    }\n",
       "\n",
       "    .dataframe tbody tr th {\n",
       "        vertical-align: top;\n",
       "    }\n",
       "\n",
       "    .dataframe thead th {\n",
       "        text-align: right;\n",
       "    }\n",
       "</style>\n",
       "<table border=\"1\" class=\"dataframe\">\n",
       "  <thead>\n",
       "    <tr style=\"text-align: right;\">\n",
       "      <th></th>\n",
       "      <th>Pregnancies</th>\n",
       "      <th>Glucose</th>\n",
       "      <th>BloodPressure</th>\n",
       "      <th>SkinThickness</th>\n",
       "      <th>Insulin</th>\n",
       "      <th>BMI</th>\n",
       "      <th>DiabetesPedigreeFunction</th>\n",
       "      <th>Age</th>\n",
       "      <th>Outcome</th>\n",
       "    </tr>\n",
       "  </thead>\n",
       "  <tbody>\n",
       "    <tr>\n",
       "      <th>631</th>\n",
       "      <td>0.000000</td>\n",
       "      <td>0.374194</td>\n",
       "      <td>0.551020</td>\n",
       "      <td>0.358696</td>\n",
       "      <td>0.090253</td>\n",
       "      <td>0.512579</td>\n",
       "      <td>0.071080</td>\n",
       "      <td>0.05</td>\n",
       "      <td>0</td>\n",
       "    </tr>\n",
       "    <tr>\n",
       "      <th>312</th>\n",
       "      <td>0.117647</td>\n",
       "      <td>0.716129</td>\n",
       "      <td>0.510204</td>\n",
       "      <td>0.108696</td>\n",
       "      <td>0.097473</td>\n",
       "      <td>0.264151</td>\n",
       "      <td>0.157708</td>\n",
       "      <td>0.10</td>\n",
       "      <td>1</td>\n",
       "    </tr>\n",
       "  </tbody>\n",
       "</table>\n",
       "</div>"
      ],
      "text/plain": [
       "     Pregnancies   Glucose  ...   Age  Outcome\n",
       "631     0.000000  0.374194  ...  0.05        0\n",
       "312     0.117647  0.716129  ...  0.10        1\n",
       "\n",
       "[2 rows x 9 columns]"
      ]
     },
     "execution_count": 292,
     "metadata": {},
     "output_type": "execute_result"
    }
   ],
   "source": [
    "after_over_sample.sample(2,random_state=4)"
   ]
  },
  {
   "cell_type": "code",
   "execution_count": 293,
   "id": "7e7464d8",
   "metadata": {},
   "outputs": [],
   "source": [
    "after_over_sample.to_csv(\"Data_For_Final_Model.csv\")"
   ]
  },
  {
   "cell_type": "code",
   "execution_count": null,
   "id": "b21a7e4d",
   "metadata": {},
   "outputs": [],
   "source": []
  },
  {
   "cell_type": "code",
   "execution_count": null,
   "id": "3cf20334",
   "metadata": {},
   "outputs": [],
   "source": []
  },
  {
   "cell_type": "code",
   "execution_count": null,
   "id": "a4debbf6",
   "metadata": {},
   "outputs": [],
   "source": []
  },
  {
   "cell_type": "code",
   "execution_count": null,
   "id": "5376ca3d",
   "metadata": {},
   "outputs": [],
   "source": []
  }
 ],
 "metadata": {
  "kernelspec": {
   "display_name": "Python 3 (ipykernel)",
   "language": "python",
   "name": "python3"
  },
  "language_info": {
   "codemirror_mode": {
    "name": "ipython",
    "version": 3
   },
   "file_extension": ".py",
   "mimetype": "text/x-python",
   "name": "python",
   "nbconvert_exporter": "python",
   "pygments_lexer": "ipython3",
   "version": "3.8.10"
  }
 },
 "nbformat": 4,
 "nbformat_minor": 5
}
